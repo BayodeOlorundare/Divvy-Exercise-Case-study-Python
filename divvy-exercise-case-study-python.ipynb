{
 "cells": [
  {
   "cell_type": "markdown",
   "id": "be3ce8c3",
   "metadata": {
    "_cell_guid": "b1076dfc-b9ad-4769-8c92-a6c4dae69d19",
    "_uuid": "8f2839f25d086af736a60e9eeb907d3b93b6e0e5",
    "papermill": {
     "duration": 0.008163,
     "end_time": "2023-03-11T23:34:05.611579",
     "exception": false,
     "start_time": "2023-03-11T23:34:05.603416",
     "status": "completed"
    },
    "tags": []
   },
   "source": [
    "# Case Study: Divvy Exercise Full Year Analysis "
   ]
  },
  {
   "cell_type": "markdown",
   "id": "31ebe58d",
   "metadata": {
    "papermill": {
     "duration": 0.00665,
     "end_time": "2023-03-11T23:34:05.625263",
     "exception": false,
     "start_time": "2023-03-11T23:34:05.618613",
     "status": "completed"
    },
    "tags": []
   },
   "source": [
    "The purpose of this notebook is to conduct an analysis for the Google Data Analysis Capstone Project on Coursera. In this case study I was provided data from a bike-share company called Divvy. For the purpose of this exercise, and from now on, Divvy will be referred to as Cyclistic. In this exercise, I work for a fictional company, Cyclistic. In order to answer the key business questions, I will follow the steps of the Data Analysis Process: Act, Prepare, Process, Analyze, Share and Act.\n",
    "\n",
    "**The Business Task**\n",
    "\n",
    "To deliver recommendations by analyzing the 2019 - 2020 trip data for Cyclistic that is used to answer the key question: \"In what ways do casual riders and members use Divvy bikes differently?\". The data will be consolidated into a single dataframe prior to starting the analysis.\n",
    "\n",
    "**Description of Data Sources Used**\n",
    "\n",
    "I used twelve-months of historical trip dataset provided by Cyclistic to perform this analysis. This includes four different files each containing a quarterly (3 months) of data ranging from April 2019 - March 2020. The data is public and has been made available by Motivate International Inc. under this [License](https://ride.divvybikes.com/data-license-agreement).\n",
    "\n",
    "**Data Cleaning and Manipulation**\n",
    "\n",
    "I used Python to have the data collected, wrangled, cleaned, stacked, manipulated and combined to perform my analysis. I will outline the steps with code samples to show my steps of the Data Analysis Process. "
   ]
  },
  {
   "cell_type": "markdown",
   "id": "f11d3961",
   "metadata": {
    "papermill": {
     "duration": 0.006543,
     "end_time": "2023-03-11T23:34:05.638572",
     "exception": false,
     "start_time": "2023-03-11T23:34:05.632029",
     "status": "completed"
    },
    "tags": []
   },
   "source": [
    "**Load the required packages in Python**\n",
    "\n",
    "**Pandas** for analyzing, cleaning, exploring, and manipulating data\n",
    "> * pandas.api.types subpackage holds some public functions for plotting graphs\n",
    "> * datetime to help with date formating and functions\n",
    "\n",
    "**Matplotlib** which is a popular library for data visualization in Python\n",
    "> * matplotlib.pyplot is a collection of functions that make matplotlib work like MATLAB\n",
    "> * matplotlib.patches"
   ]
  },
  {
   "cell_type": "code",
   "execution_count": 1,
   "id": "aec785d0",
   "metadata": {
    "execution": {
     "iopub.execute_input": "2023-03-11T23:34:05.654365Z",
     "iopub.status.busy": "2023-03-11T23:34:05.653841Z",
     "iopub.status.idle": "2023-03-11T23:34:05.672059Z",
     "shell.execute_reply": "2023-03-11T23:34:05.671146Z"
    },
    "papermill": {
     "duration": 0.029244,
     "end_time": "2023-03-11T23:34:05.674861",
     "exception": false,
     "start_time": "2023-03-11T23:34:05.645617",
     "status": "completed"
    },
    "tags": []
   },
   "outputs": [],
   "source": [
    "import pandas as pd \n",
    "from pandas.api.types import CategoricalDtype\n",
    "from datetime import datetime\n",
    "import matplotlib.pyplot as plt\n",
    "import matplotlib.patches as mpatches"
   ]
  },
  {
   "cell_type": "markdown",
   "id": "b3ec66d3",
   "metadata": {
    "papermill": {
     "duration": 0.006648,
     "end_time": "2023-03-11T23:34:05.688683",
     "exception": false,
     "start_time": "2023-03-11T23:34:05.682035",
     "status": "completed"
    },
    "tags": []
   },
   "source": [
    "## STEP 1: COLLECT DATA"
   ]
  },
  {
   "cell_type": "code",
   "execution_count": 2,
   "id": "543f1d7e",
   "metadata": {
    "execution": {
     "iopub.execute_input": "2023-03-11T23:34:05.704564Z",
     "iopub.status.busy": "2023-03-11T23:34:05.704127Z",
     "iopub.status.idle": "2023-03-11T23:34:20.982314Z",
     "shell.execute_reply": "2023-03-11T23:34:20.981151Z"
    },
    "papermill": {
     "duration": 15.289633,
     "end_time": "2023-03-11T23:34:20.985227",
     "exception": false,
     "start_time": "2023-03-11T23:34:05.695594",
     "status": "completed"
    },
    "tags": []
   },
   "outputs": [],
   "source": [
    "# Change source path of files\n",
    "csv_file_1 = '/kaggle/input/divvy-trips/Divvy_Trips_2019_Q2.csv'\n",
    "csv_file_2 = '/kaggle/input/divvy-trips/Divvy_Trips_2019_Q3.csv'\n",
    "csv_file_3 = '/kaggle/input/divvy-trips/Divvy_Trips_2019_Q4.csv'\n",
    "csv_file_4 = '/kaggle/input/divvy-trips/Divvy_Trips_2020_Q1.csv'\n",
    "\n",
    "df_file_1 = pd.read_csv(csv_file_1)\n",
    "df_file_2 = pd.read_csv(csv_file_2)\n",
    "df_file_3 = pd.read_csv(csv_file_3)\n",
    "df_file_4 = pd.read_csv(csv_file_4)"
   ]
  },
  {
   "cell_type": "markdown",
   "id": "44ac8751",
   "metadata": {
    "papermill": {
     "duration": 0.006806,
     "end_time": "2023-03-11T23:34:20.999360",
     "exception": false,
     "start_time": "2023-03-11T23:34:20.992554",
     "status": "completed"
    },
    "tags": []
   },
   "source": [
    "## STEP 2: WRANGLE DATA AND COMBINE INTO A SINGLE FILE"
   ]
  },
  {
   "cell_type": "code",
   "execution_count": 3,
   "id": "13e2b911",
   "metadata": {
    "execution": {
     "iopub.execute_input": "2023-03-11T23:34:21.015048Z",
     "iopub.status.busy": "2023-03-11T23:34:21.014666Z",
     "iopub.status.idle": "2023-03-11T23:34:21.021888Z",
     "shell.execute_reply": "2023-03-11T23:34:21.020583Z"
    },
    "papermill": {
     "duration": 0.019742,
     "end_time": "2023-03-11T23:34:21.026159",
     "exception": false,
     "start_time": "2023-03-11T23:34:21.006417",
     "status": "completed"
    },
    "tags": []
   },
   "outputs": [
    {
     "name": "stdout",
     "output_type": "stream",
     "text": [
      "Index(['01 - Rental Details Rental ID', '01 - Rental Details Local Start Time',\n",
      "       '01 - Rental Details Local End Time', '01 - Rental Details Bike ID',\n",
      "       '01 - Rental Details Duration In Seconds Uncapped',\n",
      "       '03 - Rental Start Station ID', '03 - Rental Start Station Name',\n",
      "       '02 - Rental End Station ID', '02 - Rental End Station Name',\n",
      "       'User Type', 'Member Gender',\n",
      "       '05 - Member Details Member Birthday Year'],\n",
      "      dtype='object')\n",
      "Index(['trip_id', 'start_time', 'end_time', 'bikeid', 'tripduration',\n",
      "       'from_station_id', 'from_station_name', 'to_station_id',\n",
      "       'to_station_name', 'usertype', 'gender', 'birthyear'],\n",
      "      dtype='object')\n",
      "Index(['trip_id', 'start_time', 'end_time', 'bikeid', 'tripduration',\n",
      "       'from_station_id', 'from_station_name', 'to_station_id',\n",
      "       'to_station_name', 'usertype', 'gender', 'birthyear'],\n",
      "      dtype='object')\n",
      "Index(['ride_id', 'rideable_type', 'started_at', 'ended_at',\n",
      "       'start_station_name', 'start_station_id', 'end_station_name',\n",
      "       'end_station_id', 'start_lat', 'start_lng', 'end_lat', 'end_lng',\n",
      "       'member_casual'],\n",
      "      dtype='object')\n"
     ]
    }
   ],
   "source": [
    "# Compare column names for each of the files\n",
    "# The columns will be reordered after they are renamed\n",
    "print(df_file_1.columns)\n",
    "print(df_file_2.columns)\n",
    "print(df_file_3.columns)\n",
    "print(df_file_4.columns)"
   ]
  },
  {
   "cell_type": "code",
   "execution_count": 4,
   "id": "a0e6f510",
   "metadata": {
    "execution": {
     "iopub.execute_input": "2023-03-11T23:34:21.043054Z",
     "iopub.status.busy": "2023-03-11T23:34:21.042676Z",
     "iopub.status.idle": "2023-03-11T23:34:25.575473Z",
     "shell.execute_reply": "2023-03-11T23:34:25.574385Z"
    },
    "papermill": {
     "duration": 4.545366,
     "end_time": "2023-03-11T23:34:25.579540",
     "exception": false,
     "start_time": "2023-03-11T23:34:21.034174",
     "status": "completed"
    },
    "tags": []
   },
   "outputs": [
    {
     "name": "stdout",
     "output_type": "stream",
     "text": [
      "Index(['ride_id', 'started_at', 'ended_at', 'rideable_type',\n",
      "       'start_station_id', 'start_station_name', 'end_station_id',\n",
      "       'end_station_name', 'member_casual'],\n",
      "      dtype='object')\n",
      "Index(['ride_id', 'started_at', 'ended_at', 'rideable_type',\n",
      "       'start_station_id', 'start_station_name', 'end_station_id',\n",
      "       'end_station_name', 'member_casual'],\n",
      "      dtype='object')\n",
      "Index(['ride_id', 'started_at', 'ended_at', 'rideable_type',\n",
      "       'start_station_id', 'start_station_name', 'end_station_id',\n",
      "       'end_station_name', 'member_casual'],\n",
      "      dtype='object')\n",
      "Index(['ride_id', 'rideable_type', 'started_at', 'ended_at',\n",
      "       'start_station_name', 'start_station_id', 'end_station_name',\n",
      "       'end_station_id', 'member_casual'],\n",
      "      dtype='object')\n"
     ]
    }
   ],
   "source": [
    "# Rename columns  to make them consistent with q1_2020 \n",
    "df_file_1_names = {'01 - Rental Details Rental ID' : 'ride_id',\n",
    "                   '01 - Rental Details Local Start Time' : 'started_at',\n",
    "                   '01 - Rental Details Local End Time' : 'ended_at',\n",
    "                   '01 - Rental Details Bike ID' : 'rideable_type',\n",
    "                   '01 - Rental Details Duration In Seconds Uncapped' : 'tripduration',\n",
    "                   '03 - Rental Start Station ID' : 'start_station_id',\n",
    "                   '03 - Rental Start Station Name' : 'start_station_name',\n",
    "                   '02 - Rental End Station ID' : 'end_station_id',\n",
    "                   '02 - Rental End Station Name' : 'end_station_name',\n",
    "                   'User Type' : 'member_casual',\n",
    "                   'Member Gender' : 'gender',\n",
    "                   '05 - Member Details Member Birthday Year' : 'birthyear'}\n",
    "df_file_2_names = {'trip_id' : 'ride_id',\n",
    "                   'start_time' : 'started_at',\n",
    "                   'end_time' : 'ended_at',\n",
    "                   'bikeid' : 'rideable_type',\n",
    "                   'from_station_id' : 'start_station_id',\n",
    "                   'from_station_name' : 'start_station_name',\n",
    "                   'to_station_id' : 'end_station_id',\n",
    "                   'to_station_name' : 'end_station_name',\n",
    "                   'usertype' : 'member_casual'}\n",
    "df_file_3_names = {'trip_id' : 'ride_id',\n",
    "                   'start_time' : 'started_at',\n",
    "                   'end_time' : 'ended_at',\n",
    "                   'bikeid' : 'rideable_type',\n",
    "                   'from_station_id' : 'start_station_id',\n",
    "                   'from_station_name' : 'start_station_name',\n",
    "                   'to_station_id' : 'end_station_id',\n",
    "                   'to_station_name' : 'end_station_name',\n",
    "                   'usertype' : 'member_casual'}\n",
    "                   \n",
    "# Rename the columns using the dictionary\n",
    "df_file_1.rename(columns=df_file_1_names, inplace = True)\n",
    "df_file_2.rename(columns=df_file_2_names, inplace = True)\n",
    "df_file_3.rename(columns=df_file_3_names, inplace = True)\n",
    "\n",
    "# Drop the columns you want to remove\n",
    "df_file_1.drop(['tripduration', 'gender', 'birthyear'], axis=1, inplace=True)\n",
    "df_file_2.drop(['tripduration', 'gender', 'birthyear'], axis=1, inplace=True)\n",
    "df_file_3.drop(['tripduration', 'gender', 'birthyear'], axis=1, inplace=True)\n",
    "df_file_4.drop(['start_lat', 'start_lng', 'end_lat', 'end_lng'], axis=1, inplace=True)\n",
    "\n",
    "#Confirm list of column names after updates\n",
    "print(df_file_1.columns)\n",
    "print(df_file_2.columns)\n",
    "print(df_file_3.columns)\n",
    "print(df_file_4.columns)\n",
    "\n",
    "# Reorder the columns of df_file_1, df_file_2 and df_file_3 to match df_file_4\n",
    "df_file_1 = df_file_1.reindex(columns=df_file_4.columns)\n",
    "df_file_2 = df_file_2.reindex(columns=df_file_4.columns)\n",
    "df_file_3 = df_file_3.reindex(columns=df_file_4.columns)\n",
    "\n",
    "# Concatenate the four DataFrames\n",
    "df_all_trips = pd.concat([df_file_1, df_file_2, df_file_3, df_file_4])\n",
    "\n",
    "# Drop rows with null or empty values in any column\n",
    "df_all_trips.dropna(inplace=True)"
   ]
  },
  {
   "cell_type": "code",
   "execution_count": 5,
   "id": "8b09c888",
   "metadata": {
    "execution": {
     "iopub.execute_input": "2023-03-11T23:34:25.599112Z",
     "iopub.status.busy": "2023-03-11T23:34:25.598306Z",
     "iopub.status.idle": "2023-03-11T23:34:25.605283Z",
     "shell.execute_reply": "2023-03-11T23:34:25.604114Z"
    },
    "papermill": {
     "duration": 0.021607,
     "end_time": "2023-03-11T23:34:25.610282",
     "exception": false,
     "start_time": "2023-03-11T23:34:25.588675",
     "status": "completed"
    },
    "tags": []
   },
   "outputs": [
    {
     "name": "stdout",
     "output_type": "stream",
     "text": [
      "ride_id                object\n",
      "rideable_type          object\n",
      "started_at             object\n",
      "ended_at               object\n",
      "start_station_name     object\n",
      "start_station_id        int64\n",
      "end_station_name       object\n",
      "end_station_id        float64\n",
      "member_casual          object\n",
      "dtype: object\n"
     ]
    }
   ],
   "source": [
    "# Inspect the dataframe and check for data type for each column\n",
    "print(df_all_trips.dtypes)"
   ]
  },
  {
   "cell_type": "code",
   "execution_count": 6,
   "id": "25460354",
   "metadata": {
    "execution": {
     "iopub.execute_input": "2023-03-11T23:34:25.628295Z",
     "iopub.status.busy": "2023-03-11T23:34:25.627509Z",
     "iopub.status.idle": "2023-03-11T23:35:35.545905Z",
     "shell.execute_reply": "2023-03-11T23:35:35.544575Z"
    },
    "papermill": {
     "duration": 69.936954,
     "end_time": "2023-03-11T23:35:35.555535",
     "exception": false,
     "start_time": "2023-03-11T23:34:25.618581",
     "status": "completed"
    },
    "tags": []
   },
   "outputs": [
    {
     "name": "stdout",
     "output_type": "stream",
     "text": [
      "ride_id                       object\n",
      "rideable_type                 object\n",
      "started_at            datetime64[ns]\n",
      "ended_at              datetime64[ns]\n",
      "start_station_name            object\n",
      "start_station_id               int64\n",
      "end_station_name              object\n",
      "end_station_id                 int64\n",
      "member_casual                 object\n",
      "dtype: object\n"
     ]
    }
   ],
   "source": [
    "# Convert columns to ensure they are consistent so that they can stack correctly\n",
    "df_all_trips['ride_id'] = df_all_trips['ride_id'].astype(str)\n",
    "df_all_trips['rideable_type'] = df_all_trips['rideable_type'].astype(str)\n",
    "df_all_trips['started_at'] = pd.to_datetime(df_all_trips['started_at'])\n",
    "df_all_trips['ended_at'] = pd.to_datetime(df_all_trips['ended_at'])\n",
    "df_all_trips['start_station_name'] = df_all_trips['start_station_name'].astype(str)\n",
    "df_all_trips['start_station_id'] = df_all_trips['start_station_id'].astype(int)\n",
    "df_all_trips['end_station_name'] = df_all_trips['end_station_name'].astype(str)\n",
    "df_all_trips['end_station_id'] = df_all_trips['end_station_id'].astype(int)\n",
    "df_all_trips['member_casual'] = df_all_trips['member_casual'].astype(str)\n",
    "\n",
    "# Confirm the columns in dataframe have updated\n",
    "print(df_all_trips.dtypes)"
   ]
  },
  {
   "cell_type": "markdown",
   "id": "543a99c9",
   "metadata": {
    "papermill": {
     "duration": 0.007473,
     "end_time": "2023-03-11T23:35:35.570303",
     "exception": false,
     "start_time": "2023-03-11T23:35:35.562830",
     "status": "completed"
    },
    "tags": []
   },
   "source": [
    "## STEP 3: CLEAN UP AND ADD DATA TO PREPARE FOR ANALYSIS"
   ]
  },
  {
   "cell_type": "markdown",
   "id": "571862cc",
   "metadata": {
    "papermill": {
     "duration": 0.007039,
     "end_time": "2023-03-11T23:35:35.584666",
     "exception": false,
     "start_time": "2023-03-11T23:35:35.577627",
     "status": "completed"
    },
    "tags": []
   },
   "source": [
    "#### Inspect the new table that has been created"
   ]
  },
  {
   "cell_type": "code",
   "execution_count": 7,
   "id": "6a4884d6",
   "metadata": {
    "execution": {
     "iopub.execute_input": "2023-03-11T23:35:35.601437Z",
     "iopub.status.busy": "2023-03-11T23:35:35.600403Z",
     "iopub.status.idle": "2023-03-11T23:35:35.616861Z",
     "shell.execute_reply": "2023-03-11T23:35:35.615821Z"
    },
    "papermill": {
     "duration": 0.028669,
     "end_time": "2023-03-11T23:35:35.620494",
     "exception": false,
     "start_time": "2023-03-11T23:35:35.591825",
     "status": "completed"
    },
    "tags": []
   },
   "outputs": [
    {
     "name": "stdout",
     "output_type": "stream",
     "text": [
      "                 ride_id rideable_type          started_at  \\\n",
      "0               22178529          6251 2019-04-01 00:02:22   \n",
      "1               22178530          6226 2019-04-01 00:03:02   \n",
      "2               22178531          5649 2019-04-01 00:11:07   \n",
      "3               22178532          4151 2019-04-01 00:13:01   \n",
      "4               22178533          3270 2019-04-01 00:19:26   \n",
      "...                  ...           ...                 ...   \n",
      "426882  ADDAA33CEBCAE733   docked_bike 2020-03-10 10:40:06   \n",
      "426883  82B10FA3994BC66A   docked_bike 2020-03-07 15:25:55   \n",
      "426884  AA0D5AAA0B59C8AA   docked_bike 2020-03-01 13:12:38   \n",
      "426885  3296360A7BC20FB8   docked_bike 2020-03-07 18:02:45   \n",
      "426886  064EC7698E4FF9B3   docked_bike 2020-03-08 13:03:57   \n",
      "\n",
      "                  ended_at         start_station_name  start_station_id  \\\n",
      "0      2019-04-01 00:09:48         Daley Center Plaza                81   \n",
      "1      2019-04-01 00:20:30        Wood St & Taylor St               317   \n",
      "2      2019-04-01 00:15:19  LaSalle St & Jackson Blvd               283   \n",
      "3      2019-04-01 00:18:58   McClurg Ct & Illinois St                26   \n",
      "4      2019-04-01 00:36:13       Halsted St & 18th St               202   \n",
      "...                    ...                        ...               ...   \n",
      "426882 2020-03-10 10:40:07                      HQ QR               675   \n",
      "426883 2020-03-07 16:14:03      Rush St & Superior St               161   \n",
      "426884 2020-03-01 13:38:29     Clark St & Lincoln Ave               141   \n",
      "426885 2020-03-07 18:13:18  Franklin St & Illinois St               672   \n",
      "426886 2020-03-08 13:32:27      Dearborn St & Erie St               110   \n",
      "\n",
      "                    end_station_name  end_station_id member_casual  \n",
      "0          Desplaines St & Kinzie St              56    Subscriber  \n",
      "1          Wabash Ave & Roosevelt Rd              59    Subscriber  \n",
      "2              Canal St & Madison St             174    Subscriber  \n",
      "3           Kingsbury St & Kinzie St             133    Subscriber  \n",
      "4          Blue Island Ave & 18th St             129    Subscriber  \n",
      "...                              ...             ...           ...  \n",
      "426882                         HQ QR             675        casual  \n",
      "426883  Sheridan Rd & Irving Park Rd             240        member  \n",
      "426884     Ashland Ave & Division St             210        casual  \n",
      "426885  Stetson Ave & South Water St             264        member  \n",
      "426886         Michigan Ave & Oak St              85        casual  \n",
      "\n",
      "[3511510 rows x 9 columns]\n"
     ]
    }
   ],
   "source": [
    "print(df_all_trips)"
   ]
  },
  {
   "cell_type": "markdown",
   "id": "da906484",
   "metadata": {
    "papermill": {
     "duration": 0.007098,
     "end_time": "2023-03-11T23:35:35.635179",
     "exception": false,
     "start_time": "2023-03-11T23:35:35.628081",
     "status": "completed"
    },
    "tags": []
   },
   "source": [
    "There are a few problems we will need to fix:\n",
    "1. In the \"member_casual\" column, there are two names for members (\"member\" and \"Subscriber\") and two names for casual riders (\"Customer\" and \"casual\"). We will need to consolidate that from four to two labels.\n",
    "1. The data can only be aggregated at the ride-level, which is too granular. We will want to add some additional columns of data -- such as day, month, year -- that provide additional opportunities to aggregate the data.\n",
    "1. We will want to add a calculated field for length of ride since the 2020Q1 data did not have the \"tripduration\" column. We will add \"ride_length\" to the entire dataframe for consistency.\n",
    "1. There are some rides where tripduration shows up as negative, including several hundred rides where Divvy took bikes out of circulation for Quality Control reasons. We will want to delete these rides."
   ]
  },
  {
   "cell_type": "code",
   "execution_count": 8,
   "id": "96b83c40",
   "metadata": {
    "execution": {
     "iopub.execute_input": "2023-03-11T23:35:35.652110Z",
     "iopub.status.busy": "2023-03-11T23:35:35.651437Z",
     "iopub.status.idle": "2023-03-11T23:35:36.238833Z",
     "shell.execute_reply": "2023-03-11T23:35:36.237322Z"
    },
    "papermill": {
     "duration": 0.599109,
     "end_time": "2023-03-11T23:35:36.241668",
     "exception": false,
     "start_time": "2023-03-11T23:35:35.642559",
     "status": "completed"
    },
    "tags": []
   },
   "outputs": [
    {
     "name": "stdout",
     "output_type": "stream",
     "text": [
      "member    2676458\n",
      "casual     835052\n",
      "Name: member_casual, dtype: int64\n"
     ]
    }
   ],
   "source": [
    "# In the \"member_casual\" column, replace \"Subscriber\" with \"member\" and \"Customer\" with \"casual\"\n",
    "df_all_trips['member_casual'].replace({'Subscriber': 'member', 'Customer': 'casual'}, inplace=True)\n",
    "\n",
    "# Check to make sure the proper number of observations were reassigned\n",
    "# Count the values in the 'member_casual' column\n",
    "counts = df_all_trips['member_casual'].value_counts()\n",
    "print(counts)"
   ]
  },
  {
   "cell_type": "code",
   "execution_count": 9,
   "id": "d1b21e70",
   "metadata": {
    "execution": {
     "iopub.execute_input": "2023-03-11T23:35:36.258680Z",
     "iopub.status.busy": "2023-03-11T23:35:36.258283Z",
     "iopub.status.idle": "2023-03-11T23:35:38.749493Z",
     "shell.execute_reply": "2023-03-11T23:35:38.748120Z"
    },
    "papermill": {
     "duration": 2.503041,
     "end_time": "2023-03-11T23:35:38.752339",
     "exception": false,
     "start_time": "2023-03-11T23:35:36.249298",
     "status": "completed"
    },
    "tags": []
   },
   "outputs": [],
   "source": [
    "# Add columns that list the date, month, day, and year of each ride\n",
    "# This will allow us to aggregate ride data for each month, day, or year\n",
    "df_all_trips['day'] = df_all_trips['started_at'].dt.day\n",
    "df_all_trips['hour'] = df_all_trips['started_at'].dt.hour\n",
    "df_all_trips['month'] = df_all_trips['started_at'].dt.month\n",
    "df_all_trips['year'] = df_all_trips['started_at'].dt.year\n",
    "df_all_trips['day_of_week'] = df_all_trips['started_at'].dt.day_name()"
   ]
  },
  {
   "cell_type": "code",
   "execution_count": 10,
   "id": "32240754",
   "metadata": {
    "execution": {
     "iopub.execute_input": "2023-03-11T23:35:38.768958Z",
     "iopub.status.busy": "2023-03-11T23:35:38.768574Z",
     "iopub.status.idle": "2023-03-11T23:35:38.859359Z",
     "shell.execute_reply": "2023-03-11T23:35:38.858204Z"
    },
    "papermill": {
     "duration": 0.10245,
     "end_time": "2023-03-11T23:35:38.862206",
     "exception": false,
     "start_time": "2023-03-11T23:35:38.759756",
     "status": "completed"
    },
    "tags": []
   },
   "outputs": [],
   "source": [
    "# Add a \"ride_length\" calculation to all_trips (in seconds)\n",
    "df_all_trips['ride_length'] = (df_all_trips['ended_at'] - df_all_trips['started_at']).dt.total_seconds()\n",
    "\n",
    "# Inspect the structure of the columns\n",
    "#print(df_all_trips.columns)"
   ]
  },
  {
   "cell_type": "code",
   "execution_count": 11,
   "id": "e4f650ac",
   "metadata": {
    "execution": {
     "iopub.execute_input": "2023-03-11T23:35:38.879159Z",
     "iopub.status.busy": "2023-03-11T23:35:38.878757Z",
     "iopub.status.idle": "2023-03-11T23:35:41.754889Z",
     "shell.execute_reply": "2023-03-11T23:35:41.753722Z"
    },
    "papermill": {
     "duration": 2.887824,
     "end_time": "2023-03-11T23:35:41.757588",
     "exception": false,
     "start_time": "2023-03-11T23:35:38.869764",
     "status": "completed"
    },
    "tags": []
   },
   "outputs": [
    {
     "name": "stdout",
     "output_type": "stream",
     "text": [
      "Empty DataFrame\n",
      "Columns: [ride_id, rideable_type, started_at, ended_at, start_station_name, start_station_id, end_station_name, end_station_id, member_casual, day, hour, month, year, day_of_week, ride_length]\n",
      "Index: []\n",
      "Empty DataFrame\n",
      "Columns: [ride_id, rideable_type, started_at, ended_at, start_station_name, start_station_id, end_station_name, end_station_id, member_casual, day, hour, month, year, day_of_week, ride_length]\n",
      "Index: []\n"
     ]
    }
   ],
   "source": [
    "# Filter the negative values in 'ride_length'\n",
    "df_all_trips = df_all_trips[df_all_trips['ride_length'] > 0]\n",
    "\n",
    "# Filter out starting station name with 'HQ QR' these are bikes at headquarters\n",
    "df_all_trips = df_all_trips[df_all_trips['start_station_name'] != 'HQ QR']\n",
    "\n",
    "# Inspect the ride length to make sure there's no negative\n",
    "# make sure there's no 'HQ QR' starting station names\n",
    "print(df_all_trips[df_all_trips['ride_length'] < 0])\n",
    "print(df_all_trips[df_all_trips['start_station_name'] == 'HQ QR'])"
   ]
  },
  {
   "cell_type": "markdown",
   "id": "918c6622",
   "metadata": {
    "papermill": {
     "duration": 0.007289,
     "end_time": "2023-03-11T23:35:41.772604",
     "exception": false,
     "start_time": "2023-03-11T23:35:41.765315",
     "status": "completed"
    },
    "tags": []
   },
   "source": [
    "## STEP 4: CONDUCT DESCRIPTIVE ANALYSIS"
   ]
  },
  {
   "cell_type": "code",
   "execution_count": 12,
   "id": "32e66b82",
   "metadata": {
    "execution": {
     "iopub.execute_input": "2023-03-11T23:35:41.790078Z",
     "iopub.status.busy": "2023-03-11T23:35:41.789700Z",
     "iopub.status.idle": "2023-03-11T23:35:43.248766Z",
     "shell.execute_reply": "2023-03-11T23:35:43.247468Z"
    },
    "papermill": {
     "duration": 1.471098,
     "end_time": "2023-03-11T23:35:43.251414",
     "exception": false,
     "start_time": "2023-03-11T23:35:41.780316",
     "status": "completed"
    },
    "tags": []
   },
   "outputs": [
    {
     "name": "stdout",
     "output_type": "stream",
     "text": [
      "count    3.507731e+06\n",
      "mean     1.496604e+03\n",
      "std      3.076057e+04\n",
      "min      1.000000e+00\n",
      "25%      4.200000e+02\n",
      "50%      7.200000e+02\n",
      "75%      1.310000e+03\n",
      "max      9.387024e+06\n",
      "Name: ride_length, dtype: float64 0    300.0\n",
      "dtype: float64\n"
     ]
    }
   ],
   "source": [
    "# Descriptive analysis on ride_length (all figures in seconds)\n",
    "\n",
    "# Calculate mean ride length by member_casual\n",
    "mean_ride_length = df_all_trips.groupby('member_casual')['ride_length'].mean()\n",
    "\n",
    "# Calculate median ride length by member_casual\n",
    "median_ride_length = df_all_trips.groupby('member_casual')['ride_length'].median()\n",
    "\n",
    "# Calculate maximum ride length by member_casual\n",
    "max_ride_length = df_all_trips.groupby('member_casual')['ride_length'].max()\n",
    "\n",
    "# Calculate minimum ride length by member_casual\n",
    "min_ride_length = df_all_trips.groupby('member_casual')['ride_length'].min()\n",
    "\n",
    "# These will provide summary data for 'ride_length' such as min, max, std, etc...\n",
    "summary = df_all_trips['ride_length'].describe()\n",
    "mode = df_all_trips['ride_length'].mode()\n",
    "\n",
    "# print the summary data\n",
    "print(summary, mode)"
   ]
  },
  {
   "cell_type": "code",
   "execution_count": 13,
   "id": "033896aa",
   "metadata": {
    "execution": {
     "iopub.execute_input": "2023-03-11T23:35:43.269556Z",
     "iopub.status.busy": "2023-03-11T23:35:43.268334Z",
     "iopub.status.idle": "2023-03-11T23:35:45.192287Z",
     "shell.execute_reply": "2023-03-11T23:35:45.191141Z"
    },
    "papermill": {
     "duration": 1.935755,
     "end_time": "2023-03-11T23:35:45.195023",
     "exception": false,
     "start_time": "2023-03-11T23:35:43.259268",
     "status": "completed"
    },
    "tags": []
   },
   "outputs": [],
   "source": [
    "# Define the order of the days of the week\n",
    "weekdays_order = ['Monday', 'Tuesday', 'Wednesday', 'Thursday', 'Friday', 'Saturday', 'Sunday']\n",
    "\n",
    "# Create a categorical variable with the defined order for days of week\n",
    "cat_weekdays = pd.Categorical(df_all_trips['day_of_week'], categories=weekdays_order, ordered=True)\n",
    "\n",
    "# Group by member_casual and the categorical weekdays variable and calculate the mean ride length\n",
    "mean_ride_length_day = df_all_trips.groupby(['member_casual', cat_weekdays])['ride_length'].mean()\n",
    "\n",
    "# Now, let's run the average ride time by each day for members vs casual users\n",
    "mean_ride_length_ride_time = df_all_trips.groupby(['member_casual', 'day_of_week'])['ride_length'].mean().reset_index()\n",
    "\n",
    "# create a weekday categorical type with ordered days\n",
    "weekday_cats = CategoricalDtype(categories= weekdays_order, ordered=True)\n",
    "\n",
    "# create a new dataframe with counts of each weekday and member type\n",
    "grouped_data = df_all_trips.groupby(['member_casual', 'day_of_week']).size().reset_index(name='count')"
   ]
  },
  {
   "cell_type": "code",
   "execution_count": 14,
   "id": "15328eb3",
   "metadata": {
    "execution": {
     "iopub.execute_input": "2023-03-11T23:35:45.212609Z",
     "iopub.status.busy": "2023-03-11T23:35:45.212186Z",
     "iopub.status.idle": "2023-03-11T23:35:45.522315Z",
     "shell.execute_reply": "2023-03-11T23:35:45.521018Z"
    },
    "papermill": {
     "duration": 0.322221,
     "end_time": "2023-03-11T23:35:45.525062",
     "exception": false,
     "start_time": "2023-03-11T23:35:45.202841",
     "status": "completed"
    },
    "tags": []
   },
   "outputs": [
    {
     "data": {
      "image/png": "[encoded data removed]",
      "text/plain": [
       "<Figure size 720x432 with 1 Axes>"
      ]
     },
     "metadata": {
      "needs_background": "light"
     },
     "output_type": "display_data"
    }
   ],
   "source": [
    "# Let's visualize the total number of rides by rider type during the weekday\n",
    "\n",
    "# create a sample dataframe\n",
    "data = grouped_data\n",
    "df = pd.DataFrame(data)\n",
    "\n",
    "# define colors for member and casual categories\n",
    "colors = {'member': 'blue', 'casual': 'Salmon'}\n",
    "\n",
    "# create a list of weekdays in the desired order\n",
    "weekdays_order = ['Sunday', 'Monday', 'Tuesday', 'Wednesday', 'Thursday', 'Friday', 'Saturday']\n",
    "\n",
    "# convert the day_of_week column to a categorical data type with the specified order\n",
    "df['day_of_week'] = pd.Categorical(df['day_of_week'], categories=weekdays_order, ordered=True)\n",
    "\n",
    "# create a pivot table with day_of_week as index, member_casual as columns, and count as values\n",
    "pivot_df = df.pivot_table(index='day_of_week', columns='member_casual', values='count')\n",
    "\n",
    "# create the plot\n",
    "ax = pivot_df.plot(kind='bar', figsize=(10,6), width=0.8)\n",
    "\n",
    "# set the title, axes labels, and legend\n",
    "ax.set_title('Total Number of Rides of Member & Casual During Weekday', fontsize=15)\n",
    "ax.set_xlabel('Weekday', fontsize=12)\n",
    "ax.set_ylabel('Number of Rides', fontsize=12)\n",
    "\n",
    "# set the colors for each group\n",
    "handles = []\n",
    "for i, bars in enumerate(ax.containers):\n",
    "    for bar in bars:\n",
    "        bar.set_color(colors[pivot_df.columns[i]])\n",
    "    # create a custom legend handle for each group\n",
    "    handle = mpatches.Patch(color=colors[pivot_df.columns[i]], label=pivot_df.columns[i])\n",
    "    handles.append(handle)\n",
    "\n",
    "# add the custom legend handles to the legend\n",
    "ax.legend(handles=handles, fontsize=12, title='Member/Casual', title_fontsize=14)\n",
    "\n",
    "# adjust the plot layout and show the plot\n",
    "plt.subplots_adjust(bottom=0.2)\n",
    "plt.figtext(0.5, 0.02, 'Data from 2019-04 to 2020-03', ha='center', fontsize=12)\n",
    "plt.show()"
   ]
  },
  {
   "cell_type": "code",
   "execution_count": 15,
   "id": "0d731943",
   "metadata": {
    "execution": {
     "iopub.execute_input": "2023-03-11T23:35:45.543549Z",
     "iopub.status.busy": "2023-03-11T23:35:45.543135Z",
     "iopub.status.idle": "2023-03-11T23:35:46.399690Z",
     "shell.execute_reply": "2023-03-11T23:35:46.398460Z"
    },
    "papermill": {
     "duration": 0.869185,
     "end_time": "2023-03-11T23:35:46.402516",
     "exception": false,
     "start_time": "2023-03-11T23:35:45.533331",
     "status": "completed"
    },
    "tags": []
   },
   "outputs": [
    {
     "data": {
      "image/png": "[encoded data removed]",
      "text/plain": [
       "<Figure size 720x432 with 1 Axes>"
      ]
     },
     "metadata": {
      "needs_background": "light"
     },
     "output_type": "display_data"
    }
   ],
   "source": [
    "# Let's create a visualization for average durations of riders during the weekday\n",
    "\n",
    "# create a new dataframe with counts of each weekday and member type\n",
    "grouped_data = df_all_trips.groupby(['member_casual', 'day_of_week'])['ride_length'].mean().reset_index(name='avg_duration')\n",
    "\n",
    "# create a sample dataframe\n",
    "data = grouped_data\n",
    "df = pd.DataFrame(data)\n",
    "\n",
    "# define colors for member and casual categories\n",
    "colors = {'member': 'blue', 'casual': 'Salmon'}\n",
    "\n",
    "# create a list of weekdays in the desired order\n",
    "weekdays_order = ['Sunday', 'Monday', 'Tuesday', 'Wednesday', 'Thursday', 'Friday', 'Saturday']\n",
    "\n",
    "# convert the day_of_week column to a categorical data type with the specified order\n",
    "df['day_of_week'] = pd.Categorical(df['day_of_week'], categories=weekdays_order, ordered=True)\n",
    "\n",
    "# create a pivot table with day_of_week as index, member_casual as columns, and count as values\n",
    "pivot_df = df.pivot_table(index='day_of_week', columns='member_casual', values='avg_duration')\n",
    "\n",
    "# create the plot\n",
    "ax = pivot_df.plot(kind='bar', figsize=(10,6), width=0.8)\n",
    "\n",
    "# set the title, axes labels, and legend\n",
    "ax.set_title('Average Duration of Riders During Weekday', fontsize=15)\n",
    "ax.set_xlabel('Weekday', fontsize=12)\n",
    "ax.set_ylabel('Average Duration', fontsize=12)\n",
    "\n",
    "# set the colors for each group\n",
    "handles = []\n",
    "for i, bars in enumerate(ax.containers):\n",
    "    for bar in bars:\n",
    "        bar.set_color(colors[pivot_df.columns[i]])\n",
    "    # create a custom legend handle for each group\n",
    "    handle = mpatches.Patch(color=colors[pivot_df.columns[i]], label=pivot_df.columns[i])\n",
    "    handles.append(handle)\n",
    "\n",
    "# add the custom legend handles to the legend\n",
    "ax.legend(handles=handles, fontsize=12, title='Member/Casual', title_fontsize=14)\n",
    "\n",
    "# adjust the plot layout and show the plot\n",
    "plt.subplots_adjust(bottom=0.2)\n",
    "plt.figtext(0.5, 0.02, 'Data from 2019-04 to 2020-03', ha='center', fontsize=12)\n",
    "plt.show()"
   ]
  },
  {
   "cell_type": "code",
   "execution_count": 16,
   "id": "2ed93ce5",
   "metadata": {
    "execution": {
     "iopub.execute_input": "2023-03-11T23:35:46.422100Z",
     "iopub.status.busy": "2023-03-11T23:35:46.421703Z",
     "iopub.status.idle": "2023-03-11T23:35:47.280341Z",
     "shell.execute_reply": "2023-03-11T23:35:47.279064Z"
    },
    "papermill": {
     "duration": 0.871885,
     "end_time": "2023-03-11T23:35:47.283344",
     "exception": false,
     "start_time": "2023-03-11T23:35:46.411459",
     "status": "completed"
    },
    "tags": []
   },
   "outputs": [
    {
     "data": {
      "image/png": "[encoded data removed]",
      "text/plain": [
       "<Figure size 720x432 with 1 Axes>"
      ]
     },
     "metadata": {
      "needs_background": "light"
     },
     "output_type": "display_data"
    }
   ],
   "source": [
    "# Let's create a visualization for number of rides, per hour of day, by rider type\n",
    "\n",
    "# create a new dataframe with counts of each hour and member type\n",
    "grouped_data = df_all_trips.groupby(['member_casual', 'hour']).size().reset_index(name='count')\n",
    "\n",
    "# create a sample dataframe\n",
    "data = grouped_data\n",
    "df = pd.DataFrame(data)\n",
    "\n",
    "# define colors for member and casual categories\n",
    "colors = {'member': 'blue', 'casual': 'Salmon'}\n",
    "\n",
    "# create a pivot table with hour as index, member_casual as columns, and count as values\n",
    "pivot_df = df.pivot_table(index='hour', columns='member_casual', values='count')\n",
    "\n",
    "# create the plot\n",
    "ax = pivot_df.plot(kind='bar', figsize=(10,6), width=0.8)\n",
    "\n",
    "# set the title, axes labels, and legend\n",
    "ax.set_title('Total Number of Rides Per Hour of the Day of the Riders', fontsize=15)\n",
    "ax.set_xlabel('Hour', fontsize=12)\n",
    "ax.set_ylabel('Number of Rides', fontsize=12)\n",
    "\n",
    "# set the colors for each group\n",
    "handles = []\n",
    "for i, bars in enumerate(ax.containers):\n",
    "    for bar in bars:\n",
    "        bar.set_color(colors[pivot_df.columns[i]])\n",
    "    # create a custom legend handle for each group\n",
    "    handle = mpatches.Patch(color=colors[pivot_df.columns[i]], label=pivot_df.columns[i])\n",
    "    handles.append(handle)\n",
    "\n",
    "# add the custom legend handles to the legend\n",
    "ax.legend(handles=handles, fontsize=12, title='Member/Casual', title_fontsize=14)\n",
    "\n",
    "# adjust the plot layout and show the plot\n",
    "plt.subplots_adjust(bottom=0.2)\n",
    "plt.figtext(0.5, 0.02, 'Data from 2019-04 to 2020-03', ha='center', fontsize=12)\n",
    "plt.show()"
   ]
  },
  {
   "cell_type": "code",
   "execution_count": 17,
   "id": "d418df81",
   "metadata": {
    "execution": {
     "iopub.execute_input": "2023-03-11T23:35:47.305571Z",
     "iopub.status.busy": "2023-03-11T23:35:47.304421Z",
     "iopub.status.idle": "2023-03-11T23:35:47.964578Z",
     "shell.execute_reply": "2023-03-11T23:35:47.963203Z"
    },
    "papermill": {
     "duration": 0.674325,
     "end_time": "2023-03-11T23:35:47.967425",
     "exception": false,
     "start_time": "2023-03-11T23:35:47.293100",
     "status": "completed"
    },
    "tags": []
   },
   "outputs": [
    {
     "data": {
      "image/png": "[encoded data removed]",
      "text/plain": [
       "<Figure size 720x432 with 1 Axes>"
      ]
     },
     "metadata": {
      "needs_background": "light"
     },
     "output_type": "display_data"
    }
   ],
   "source": [
    "# Let's create a visualization for number of rides, during month of year, by rider type\n",
    "\n",
    "# create a new dataframe with counts of each hour and member type\n",
    "grouped_data = df_all_trips.groupby(['member_casual', 'month']).size().reset_index(name='count')\n",
    "\n",
    "# create a sample dataframe\n",
    "data = grouped_data\n",
    "df = pd.DataFrame(data)\n",
    "\n",
    "# define colors for member and casual categories\n",
    "colors = {'member': 'blue', 'casual': 'Salmon'}\n",
    "\n",
    "# create a new column with the month names\n",
    "df['month_name'] = df['month'].apply(lambda x: datetime.strptime(str(x), \"%m\").strftime(\"%b\"))\n",
    "\n",
    "# define the desired order of months\n",
    "month_order = ['Jan', 'Feb', 'Mar', 'Apr', 'May', 'Jun', 'Jul', 'Aug', 'Sep', 'Oct', 'Nov', 'Dec']\n",
    "\n",
    "# convert the month_name column to a categorical data type with the specified order\n",
    "df['month_name'] = pd.Categorical(df['month_name'], categories=month_order, ordered=True)\n",
    "\n",
    "# sort the dataframe by the month order\n",
    "df = df.sort_values('month_name')\n",
    "\n",
    "# create a pivot table with hour as index, member_casual as columns, and count as values\n",
    "pivot_df = df.pivot_table(index='month_name', columns='member_casual', values='count')\n",
    "\n",
    "# create the plot\n",
    "ax = pivot_df.plot(kind='bar', figsize=(10,6), width=0.8)\n",
    "\n",
    "# set the title, axes labels, and legend\n",
    "ax.set_title('Total Number of Rides Per Month For Riders', fontsize=15)\n",
    "ax.set_xlabel('Month', fontsize=12)\n",
    "ax.set_ylabel('Number of Rides', fontsize=12)\n",
    "\n",
    "# set the colors for each group\n",
    "handles = []\n",
    "for i, bars in enumerate(ax.containers):\n",
    "    for bar in bars:\n",
    "        bar.set_color(colors[pivot_df.columns[i]])\n",
    "    # create a custom legend handle for each group\n",
    "    handle = mpatches.Patch(color=colors[pivot_df.columns[i]], label=pivot_df.columns[i])\n",
    "    handles.append(handle)\n",
    "\n",
    "# add the custom legend handles to the legend\n",
    "ax.legend(handles=handles, fontsize=12, title='Member/Casual', title_fontsize=14)\n",
    "\n",
    "# adjust the plot layout and show the plot\n",
    "plt.subplots_adjust(bottom=0.2)\n",
    "plt.figtext(0.5, 0.02, 'Data from 2019-04 to 2020-03', ha='center', fontsize=12)\n",
    "plt.show()"
   ]
  },
  {
   "cell_type": "markdown",
   "id": "c7077c90",
   "metadata": {
    "papermill": {
     "duration": 0.009292,
     "end_time": "2023-03-11T23:35:47.986667",
     "exception": false,
     "start_time": "2023-03-11T23:35:47.977375",
     "status": "completed"
    },
    "tags": []
   },
   "source": [
    "## STEP 5: EXPORT SUMMARY FILE FOR FURTHER ANALYSIS"
   ]
  },
  {
   "cell_type": "code",
   "execution_count": 18,
   "id": "322db10f",
   "metadata": {
    "execution": {
     "iopub.execute_input": "2023-03-11T23:35:48.008068Z",
     "iopub.status.busy": "2023-03-11T23:35:48.006832Z",
     "iopub.status.idle": "2023-03-11T23:35:48.016174Z",
     "shell.execute_reply": "2023-03-11T23:35:48.015284Z"
    },
    "papermill": {
     "duration": 0.022829,
     "end_time": "2023-03-11T23:35:48.018858",
     "exception": false,
     "start_time": "2023-03-11T23:35:47.996029",
     "status": "completed"
    },
    "tags": []
   },
   "outputs": [],
   "source": [
    "# Create a csv file that we will visualize in Excel, Tableau, or my presentation software\n",
    "# Change the file location accordingly to export the data. \n",
    "# export the dataframe to a csv file\n",
    "df.to_csv('my_cleaned_divvy_data.csv', index=False)"
   ]
  },
  {
   "cell_type": "markdown",
   "id": "38df44e9",
   "metadata": {
    "papermill": {
     "duration": 0.009217,
     "end_time": "2023-03-11T23:35:48.037638",
     "exception": false,
     "start_time": "2023-03-11T23:35:48.028421",
     "status": "completed"
    },
    "tags": []
   },
   "source": [
    "## Summary\n",
    "\n",
    "casual riders tend to have fewer trips during the weekday than annual members. \n",
    "We believe this is due to members taking more rides to and from work. \n",
    "We suggest increasing casual riders weekday trips by advertsing at work communute hours (07:00 - 09:00 and 16:00 - 18:00).\n",
    "\n",
    "We also recommend advertising between May and September. These were the busiest months of the year.\n",
    "\n",
    "During our analysis we needed to clean the data performing the following tasks:\n",
    "* renaming columns in the data files\n",
    "* convert columns so the dataframes are consistent\n",
    "* then we removed unwanted columns before stacking rows\n",
    "* renamed the labels in member_casual to consolidate for consistancy\n",
    "* added additional columns of data that provided additional oppertunities to aggregate data\n",
    "* added calulcated field for length of ride for all data\n",
    "* removed ride durations that were negative\n",
    "* removed null and empty values\n",
    "* aggregate data to show mean, median, max and min for casual and member riders for analysis\n",
    "\n",
    "The issues mentioned could have affected the intrgity of this analysis, and we recommend looking into the source of the these problems."
   ]
  }
 ],
 "metadata": {
  "kernelspec": {
   "display_name": "Python 3",
   "language": "python",
   "name": "python3"
  },
  "language_info": {
   "codemirror_mode": {
    "name": "ipython",
    "version": 3
   },
   "file_extension": ".py",
   "mimetype": "text/x-python",
   "name": "python",
   "nbconvert_exporter": "python",
   "pygments_lexer": "ipython3",
   "version": "3.7.12"
  },
  "papermill": {
   "default_parameters": {},
   "duration": 113.736523,
   "end_time": "2023-03-11T23:35:49.172106",
   "environment_variables": {},
   "exception": null,
   "input_path": "__notebook__.ipynb",
   "output_path": "__notebook__.ipynb",
   "parameters": {},
   "start_time": "2023-03-11T23:33:55.435583",
   "version": "2.3.4"
  }
 },
 "nbformat": 4,
 "nbformat_minor": 5
}
